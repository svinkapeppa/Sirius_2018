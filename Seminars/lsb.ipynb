{
  "nbformat": 4,
  "nbformat_minor": 0,
  "metadata": {
    "colab": {
      "name": "lsb.ipynb",
      "version": "0.3.2",
      "views": {},
      "default_view": {},
      "provenance": []
    },
    "kernelspec": {
      "name": "python3",
      "display_name": "Python 3"
    },
    "accelerator": "GPU"
  },
  "cells": [
    {
      "metadata": {
        "id": "OUgsevYkvEBO",
        "colab_type": "text"
      },
      "cell_type": "markdown",
      "source": [
        "# Loose Silky Bent"
      ]
    },
    {
      "metadata": {
        "id": "wjx9Tf_Zt6Gp",
        "colab_type": "code",
        "colab": {
          "autoexec": {
            "startup": false,
            "wait_interval": 0
          },
          "base_uri": "https://localhost:8080/",
          "height": 204
        },
        "outputId": "7ad0a12e-bf56-426c-ac78-1dd21bb221c5",
        "executionInfo": {
          "status": "ok",
          "timestamp": 1532210944102,
          "user_tz": -180,
          "elapsed": 1976,
          "user": {
            "displayName": "Evgeny Rubanenko",
            "photoUrl": "https://lh3.googleusercontent.com/a/default-user=s128",
            "userId": "102476666956781355563"
          }
        }
      },
      "cell_type": "code",
      "source": [
        "!wget https://raw.githubusercontent.com/svinkapeppa/Sirius_2018/master/Seminars/csv/Loose_Silky-bent.csv"
      ],
      "execution_count": 29,
      "outputs": [
        {
          "output_type": "stream",
          "text": [
            "--2018-07-21 22:09:03--  https://raw.githubusercontent.com/svinkapeppa/Sirius_2018/master/Seminars/csv/Loose_Silky-bent.csv\r\n",
            "Resolving raw.githubusercontent.com (raw.githubusercontent.com)... 151.101.0.133, 151.101.64.133, 151.101.128.133, ...\r\n",
            "Connecting to raw.githubusercontent.com (raw.githubusercontent.com)|151.101.0.133|:443... connected.\n",
            "HTTP request sent, awaiting response... 200 OK\n",
            "Length: 7182530 (6.8M) [text/plain]\n",
            "Saving to: ‘Loose_Silky-bent.csv’\n",
            "\n",
            "Loose_Silky-bent.cs 100%[===================>]   6.85M  39.5MB/s    in 0.2s    \n",
            "\n",
            "2018-07-21 22:09:03 (39.5 MB/s) - ‘Loose_Silky-bent.csv’ saved [7182530/7182530]\n",
            "\n"
          ],
          "name": "stdout"
        }
      ]
    },
    {
      "metadata": {
        "id": "h3P4r2QpuOOa",
        "colab_type": "code",
        "colab": {
          "autoexec": {
            "startup": false,
            "wait_interval": 0
          }
        }
      },
      "cell_type": "code",
      "source": [
        "import pandas as pd\n",
        "import numpy as np\n",
        "\n",
        "from sklearn.model_selection import train_test_split\n",
        "\n",
        "from keras.models import Sequential\n",
        "from keras.layers import Dense, Conv2D, MaxPool2D, Flatten, Dropout\n",
        "from keras.optimizers import Adam\n",
        "from keras.utils import to_categorical"
      ],
      "execution_count": 0,
      "outputs": []
    },
    {
      "metadata": {
        "id": "FcsBM2c6vH1H",
        "colab_type": "text"
      },
      "cell_type": "markdown",
      "source": [
        "## Data Preprocessing"
      ]
    },
    {
      "metadata": {
        "id": "4cKm6Jd1uXNc",
        "colab_type": "code",
        "colab": {
          "autoexec": {
            "startup": false,
            "wait_interval": 0
          }
        }
      },
      "cell_type": "code",
      "source": [
        "df = pd.read_csv('Loose_Silky-bent.csv', sep=';', index_col=0)"
      ],
      "execution_count": 0,
      "outputs": []
    },
    {
      "metadata": {
        "id": "DvfUwkRHuaOx",
        "colab_type": "code",
        "colab": {
          "autoexec": {
            "startup": false,
            "wait_interval": 0
          },
          "base_uri": "https://localhost:8080/",
          "height": 233
        },
        "outputId": "b650199a-c706-46eb-c447-6653a7158c08",
        "executionInfo": {
          "status": "ok",
          "timestamp": 1532210953944,
          "user_tz": -180,
          "elapsed": 600,
          "user": {
            "displayName": "Evgeny Rubanenko",
            "photoUrl": "https://lh3.googleusercontent.com/a/default-user=s128",
            "userId": "102476666956781355563"
          }
        }
      },
      "cell_type": "code",
      "source": [
        "df.head()"
      ],
      "execution_count": 32,
      "outputs": [
        {
          "output_type": "execute_result",
          "data": {
            "text/html": [
              "<div>\n",
              "<style scoped>\n",
              "    .dataframe tbody tr th:only-of-type {\n",
              "        vertical-align: middle;\n",
              "    }\n",
              "\n",
              "    .dataframe tbody tr th {\n",
              "        vertical-align: top;\n",
              "    }\n",
              "\n",
              "    .dataframe thead th {\n",
              "        text-align: right;\n",
              "    }\n",
              "</style>\n",
              "<table border=\"1\" class=\"dataframe\">\n",
              "  <thead>\n",
              "    <tr style=\"text-align: right;\">\n",
              "      <th></th>\n",
              "      <th>p0</th>\n",
              "      <th>p1</th>\n",
              "      <th>p2</th>\n",
              "      <th>p3</th>\n",
              "      <th>p4</th>\n",
              "      <th>p5</th>\n",
              "      <th>p6</th>\n",
              "      <th>p7</th>\n",
              "      <th>p8</th>\n",
              "      <th>p9</th>\n",
              "      <th>...</th>\n",
              "      <th>p3063</th>\n",
              "      <th>p3064</th>\n",
              "      <th>p3065</th>\n",
              "      <th>p3066</th>\n",
              "      <th>p3067</th>\n",
              "      <th>p3068</th>\n",
              "      <th>p3069</th>\n",
              "      <th>p3070</th>\n",
              "      <th>p3071</th>\n",
              "      <th>class</th>\n",
              "    </tr>\n",
              "  </thead>\n",
              "  <tbody>\n",
              "    <tr>\n",
              "      <th>0</th>\n",
              "      <td>183</td>\n",
              "      <td>182</td>\n",
              "      <td>182</td>\n",
              "      <td>180</td>\n",
              "      <td>182</td>\n",
              "      <td>181</td>\n",
              "      <td>175</td>\n",
              "      <td>176</td>\n",
              "      <td>175</td>\n",
              "      <td>179</td>\n",
              "      <td>...</td>\n",
              "      <td>85</td>\n",
              "      <td>71</td>\n",
              "      <td>52</td>\n",
              "      <td>84</td>\n",
              "      <td>67</td>\n",
              "      <td>48</td>\n",
              "      <td>74</td>\n",
              "      <td>58</td>\n",
              "      <td>38</td>\n",
              "      <td>1</td>\n",
              "    </tr>\n",
              "    <tr>\n",
              "      <th>1</th>\n",
              "      <td>98</td>\n",
              "      <td>87</td>\n",
              "      <td>75</td>\n",
              "      <td>93</td>\n",
              "      <td>85</td>\n",
              "      <td>70</td>\n",
              "      <td>73</td>\n",
              "      <td>56</td>\n",
              "      <td>45</td>\n",
              "      <td>67</td>\n",
              "      <td>...</td>\n",
              "      <td>87</td>\n",
              "      <td>66</td>\n",
              "      <td>51</td>\n",
              "      <td>91</td>\n",
              "      <td>70</td>\n",
              "      <td>51</td>\n",
              "      <td>108</td>\n",
              "      <td>85</td>\n",
              "      <td>50</td>\n",
              "      <td>1</td>\n",
              "    </tr>\n",
              "    <tr>\n",
              "      <th>2</th>\n",
              "      <td>98</td>\n",
              "      <td>87</td>\n",
              "      <td>76</td>\n",
              "      <td>94</td>\n",
              "      <td>83</td>\n",
              "      <td>68</td>\n",
              "      <td>91</td>\n",
              "      <td>76</td>\n",
              "      <td>63</td>\n",
              "      <td>92</td>\n",
              "      <td>...</td>\n",
              "      <td>100</td>\n",
              "      <td>84</td>\n",
              "      <td>62</td>\n",
              "      <td>101</td>\n",
              "      <td>81</td>\n",
              "      <td>52</td>\n",
              "      <td>100</td>\n",
              "      <td>77</td>\n",
              "      <td>46</td>\n",
              "      <td>1</td>\n",
              "    </tr>\n",
              "    <tr>\n",
              "      <th>3</th>\n",
              "      <td>92</td>\n",
              "      <td>71</td>\n",
              "      <td>52</td>\n",
              "      <td>97</td>\n",
              "      <td>72</td>\n",
              "      <td>56</td>\n",
              "      <td>96</td>\n",
              "      <td>69</td>\n",
              "      <td>50</td>\n",
              "      <td>94</td>\n",
              "      <td>...</td>\n",
              "      <td>92</td>\n",
              "      <td>68</td>\n",
              "      <td>46</td>\n",
              "      <td>95</td>\n",
              "      <td>74</td>\n",
              "      <td>49</td>\n",
              "      <td>90</td>\n",
              "      <td>65</td>\n",
              "      <td>43</td>\n",
              "      <td>1</td>\n",
              "    </tr>\n",
              "    <tr>\n",
              "      <th>4</th>\n",
              "      <td>83</td>\n",
              "      <td>67</td>\n",
              "      <td>56</td>\n",
              "      <td>65</td>\n",
              "      <td>46</td>\n",
              "      <td>33</td>\n",
              "      <td>61</td>\n",
              "      <td>41</td>\n",
              "      <td>26</td>\n",
              "      <td>66</td>\n",
              "      <td>...</td>\n",
              "      <td>96</td>\n",
              "      <td>79</td>\n",
              "      <td>63</td>\n",
              "      <td>94</td>\n",
              "      <td>76</td>\n",
              "      <td>60</td>\n",
              "      <td>90</td>\n",
              "      <td>72</td>\n",
              "      <td>58</td>\n",
              "      <td>1</td>\n",
              "    </tr>\n",
              "  </tbody>\n",
              "</table>\n",
              "<p>5 rows × 3073 columns</p>\n",
              "</div>"
            ],
            "text/plain": [
              "    p0   p1   p2   p3   p4   p5   p6   p7   p8   p9  ...    p3063  p3064  \\\n",
              "0  183  182  182  180  182  181  175  176  175  179  ...       85     71   \n",
              "1   98   87   75   93   85   70   73   56   45   67  ...       87     66   \n",
              "2   98   87   76   94   83   68   91   76   63   92  ...      100     84   \n",
              "3   92   71   52   97   72   56   96   69   50   94  ...       92     68   \n",
              "4   83   67   56   65   46   33   61   41   26   66  ...       96     79   \n",
              "\n",
              "   p3065  p3066  p3067  p3068  p3069  p3070  p3071  class  \n",
              "0     52     84     67     48     74     58     38      1  \n",
              "1     51     91     70     51    108     85     50      1  \n",
              "2     62    101     81     52    100     77     46      1  \n",
              "3     46     95     74     49     90     65     43      1  \n",
              "4     63     94     76     60     90     72     58      1  \n",
              "\n",
              "[5 rows x 3073 columns]"
            ]
          },
          "metadata": {
            "tags": []
          },
          "execution_count": 32
        }
      ]
    },
    {
      "metadata": {
        "id": "fT9IPHAPua9B",
        "colab_type": "code",
        "colab": {
          "autoexec": {
            "startup": false,
            "wait_interval": 0
          },
          "base_uri": "https://localhost:8080/",
          "height": 233
        },
        "outputId": "85c797f6-0453-4881-e120-417f1419c492",
        "executionInfo": {
          "status": "ok",
          "timestamp": 1532210955999,
          "user_tz": -180,
          "elapsed": 672,
          "user": {
            "displayName": "Evgeny Rubanenko",
            "photoUrl": "https://lh3.googleusercontent.com/a/default-user=s128",
            "userId": "102476666956781355563"
          }
        }
      },
      "cell_type": "code",
      "source": [
        "df.tail()"
      ],
      "execution_count": 33,
      "outputs": [
        {
          "output_type": "execute_result",
          "data": {
            "text/html": [
              "<div>\n",
              "<style scoped>\n",
              "    .dataframe tbody tr th:only-of-type {\n",
              "        vertical-align: middle;\n",
              "    }\n",
              "\n",
              "    .dataframe tbody tr th {\n",
              "        vertical-align: top;\n",
              "    }\n",
              "\n",
              "    .dataframe thead th {\n",
              "        text-align: right;\n",
              "    }\n",
              "</style>\n",
              "<table border=\"1\" class=\"dataframe\">\n",
              "  <thead>\n",
              "    <tr style=\"text-align: right;\">\n",
              "      <th></th>\n",
              "      <th>p0</th>\n",
              "      <th>p1</th>\n",
              "      <th>p2</th>\n",
              "      <th>p3</th>\n",
              "      <th>p4</th>\n",
              "      <th>p5</th>\n",
              "      <th>p6</th>\n",
              "      <th>p7</th>\n",
              "      <th>p8</th>\n",
              "      <th>p9</th>\n",
              "      <th>...</th>\n",
              "      <th>p3063</th>\n",
              "      <th>p3064</th>\n",
              "      <th>p3065</th>\n",
              "      <th>p3066</th>\n",
              "      <th>p3067</th>\n",
              "      <th>p3068</th>\n",
              "      <th>p3069</th>\n",
              "      <th>p3070</th>\n",
              "      <th>p3071</th>\n",
              "      <th>class</th>\n",
              "    </tr>\n",
              "  </thead>\n",
              "  <tbody>\n",
              "    <tr>\n",
              "      <th>738</th>\n",
              "      <td>89</td>\n",
              "      <td>74</td>\n",
              "      <td>57</td>\n",
              "      <td>101</td>\n",
              "      <td>88</td>\n",
              "      <td>70</td>\n",
              "      <td>94</td>\n",
              "      <td>79</td>\n",
              "      <td>66</td>\n",
              "      <td>83</td>\n",
              "      <td>...</td>\n",
              "      <td>86</td>\n",
              "      <td>57</td>\n",
              "      <td>34</td>\n",
              "      <td>75</td>\n",
              "      <td>54</td>\n",
              "      <td>37</td>\n",
              "      <td>63</td>\n",
              "      <td>38</td>\n",
              "      <td>27</td>\n",
              "      <td>3</td>\n",
              "    </tr>\n",
              "    <tr>\n",
              "      <th>739</th>\n",
              "      <td>62</td>\n",
              "      <td>48</td>\n",
              "      <td>38</td>\n",
              "      <td>64</td>\n",
              "      <td>46</td>\n",
              "      <td>36</td>\n",
              "      <td>63</td>\n",
              "      <td>46</td>\n",
              "      <td>36</td>\n",
              "      <td>55</td>\n",
              "      <td>...</td>\n",
              "      <td>72</td>\n",
              "      <td>61</td>\n",
              "      <td>45</td>\n",
              "      <td>81</td>\n",
              "      <td>69</td>\n",
              "      <td>53</td>\n",
              "      <td>84</td>\n",
              "      <td>73</td>\n",
              "      <td>58</td>\n",
              "      <td>3</td>\n",
              "    </tr>\n",
              "    <tr>\n",
              "      <th>740</th>\n",
              "      <td>86</td>\n",
              "      <td>66</td>\n",
              "      <td>42</td>\n",
              "      <td>84</td>\n",
              "      <td>66</td>\n",
              "      <td>47</td>\n",
              "      <td>97</td>\n",
              "      <td>71</td>\n",
              "      <td>44</td>\n",
              "      <td>90</td>\n",
              "      <td>...</td>\n",
              "      <td>57</td>\n",
              "      <td>51</td>\n",
              "      <td>51</td>\n",
              "      <td>58</td>\n",
              "      <td>51</td>\n",
              "      <td>53</td>\n",
              "      <td>57</td>\n",
              "      <td>50</td>\n",
              "      <td>52</td>\n",
              "      <td>3</td>\n",
              "    </tr>\n",
              "    <tr>\n",
              "      <th>741</th>\n",
              "      <td>111</td>\n",
              "      <td>92</td>\n",
              "      <td>72</td>\n",
              "      <td>103</td>\n",
              "      <td>83</td>\n",
              "      <td>62</td>\n",
              "      <td>106</td>\n",
              "      <td>78</td>\n",
              "      <td>48</td>\n",
              "      <td>96</td>\n",
              "      <td>...</td>\n",
              "      <td>57</td>\n",
              "      <td>40</td>\n",
              "      <td>31</td>\n",
              "      <td>75</td>\n",
              "      <td>59</td>\n",
              "      <td>43</td>\n",
              "      <td>83</td>\n",
              "      <td>64</td>\n",
              "      <td>47</td>\n",
              "      <td>3</td>\n",
              "    </tr>\n",
              "    <tr>\n",
              "      <th>742</th>\n",
              "      <td>79</td>\n",
              "      <td>62</td>\n",
              "      <td>45</td>\n",
              "      <td>83</td>\n",
              "      <td>65</td>\n",
              "      <td>50</td>\n",
              "      <td>82</td>\n",
              "      <td>61</td>\n",
              "      <td>46</td>\n",
              "      <td>76</td>\n",
              "      <td>...</td>\n",
              "      <td>85</td>\n",
              "      <td>77</td>\n",
              "      <td>69</td>\n",
              "      <td>85</td>\n",
              "      <td>79</td>\n",
              "      <td>66</td>\n",
              "      <td>80</td>\n",
              "      <td>63</td>\n",
              "      <td>51</td>\n",
              "      <td>3</td>\n",
              "    </tr>\n",
              "  </tbody>\n",
              "</table>\n",
              "<p>5 rows × 3073 columns</p>\n",
              "</div>"
            ],
            "text/plain": [
              "      p0  p1  p2   p3  p4  p5   p6  p7  p8  p9  ...    p3063  p3064  p3065  \\\n",
              "738   89  74  57  101  88  70   94  79  66  83  ...       86     57     34   \n",
              "739   62  48  38   64  46  36   63  46  36  55  ...       72     61     45   \n",
              "740   86  66  42   84  66  47   97  71  44  90  ...       57     51     51   \n",
              "741  111  92  72  103  83  62  106  78  48  96  ...       57     40     31   \n",
              "742   79  62  45   83  65  50   82  61  46  76  ...       85     77     69   \n",
              "\n",
              "     p3066  p3067  p3068  p3069  p3070  p3071  class  \n",
              "738     75     54     37     63     38     27      3  \n",
              "739     81     69     53     84     73     58      3  \n",
              "740     58     51     53     57     50     52      3  \n",
              "741     75     59     43     83     64     47      3  \n",
              "742     85     79     66     80     63     51      3  \n",
              "\n",
              "[5 rows x 3073 columns]"
            ]
          },
          "metadata": {
            "tags": []
          },
          "execution_count": 33
        }
      ]
    },
    {
      "metadata": {
        "id": "6RYYWw8cvM81",
        "colab_type": "text"
      },
      "cell_type": "markdown",
      "source": [
        "---"
      ]
    },
    {
      "metadata": {
        "id": "b8BxHka9utEX",
        "colab_type": "code",
        "colab": {
          "autoexec": {
            "startup": false,
            "wait_interval": 0
          }
        }
      },
      "cell_type": "code",
      "source": [
        "x = df.drop('class', axis=1)\n",
        "y = df['class']"
      ],
      "execution_count": 0,
      "outputs": []
    },
    {
      "metadata": {
        "id": "bERheAHlvVnT",
        "colab_type": "code",
        "colab": {
          "autoexec": {
            "startup": false,
            "wait_interval": 0
          }
        }
      },
      "cell_type": "code",
      "source": [
        "x = np.array(x).reshape(-1, 32, 32, 3)\n",
        "y -= 1\n",
        "y = to_categorical(y)"
      ],
      "execution_count": 0,
      "outputs": []
    },
    {
      "metadata": {
        "id": "dfOxvh5LwZgv",
        "colab_type": "text"
      },
      "cell_type": "markdown",
      "source": [
        "---"
      ]
    },
    {
      "metadata": {
        "id": "Yf7_HGrDvaih",
        "colab_type": "code",
        "colab": {
          "autoexec": {
            "startup": false,
            "wait_interval": 0
          }
        }
      },
      "cell_type": "code",
      "source": [
        "x_train, x_test, y_train, y_test = train_test_split(x, y,\n",
        "                                                    random_state=42,\n",
        "                                                    test_size=0.2)"
      ],
      "execution_count": 0,
      "outputs": []
    },
    {
      "metadata": {
        "id": "Wt0JI1olwqaH",
        "colab_type": "text"
      },
      "cell_type": "markdown",
      "source": [
        "## Net Architecture"
      ]
    },
    {
      "metadata": {
        "id": "-EWui5ICwpyi",
        "colab_type": "code",
        "colab": {
          "autoexec": {
            "startup": false,
            "wait_interval": 0
          }
        }
      },
      "cell_type": "code",
      "source": [
        "model = Sequential()\n",
        "\n",
        "model.add(Conv2D(64, 3, padding='same', activation='relu', input_shape=(32, 32, 3)))\n",
        "model.add(Conv2D(64, 3, padding='same', activation='relu'))\n",
        "model.add(MaxPool2D(strides=2))\n",
        "\n",
        "model.add(Conv2D(128, 3, padding='same', activation='relu'))\n",
        "model.add(Conv2D(128, 3, padding='same', activation='relu'))\n",
        "model.add(MaxPool2D(strides=2))\n",
        "\n",
        "model.add(Conv2D(256, 3, padding='same', activation='relu'))\n",
        "model.add(Conv2D(256, 3, padding='same', activation='relu'))\n",
        "model.add(MaxPool2D(strides=4))\n",
        "\n",
        "model.add(Flatten())\n",
        "\n",
        "model.add(Dense(2048, activation='relu'))\n",
        "model.add(Dense(1024, activation='relu'))\n",
        "model.add(Dropout(rate=0.4))\n",
        "model.add(Dense(3, activation='softmax'))"
      ],
      "execution_count": 0,
      "outputs": []
    },
    {
      "metadata": {
        "id": "GU1JO1e2xeD6",
        "colab_type": "code",
        "colab": {
          "autoexec": {
            "startup": false,
            "wait_interval": 0
          }
        }
      },
      "cell_type": "code",
      "source": [
        "model.compile('sgd', 'categorical_crossentropy', ['accuracy'])"
      ],
      "execution_count": 0,
      "outputs": []
    },
    {
      "metadata": {
        "id": "RXh23lMyxfpG",
        "colab_type": "code",
        "colab": {
          "autoexec": {
            "startup": false,
            "wait_interval": 0
          },
          "base_uri": "https://localhost:8080/",
          "height": 1020
        },
        "outputId": "e338f173-d1c0-4a60-b71e-352a41705b92",
        "executionInfo": {
          "status": "ok",
          "timestamp": 1532211340604,
          "user_tz": -180,
          "elapsed": 15182,
          "user": {
            "displayName": "Evgeny Rubanenko",
            "photoUrl": "https://lh3.googleusercontent.com/a/default-user=s128",
            "userId": "102476666956781355563"
          }
        }
      },
      "cell_type": "code",
      "source": [
        "model.fit(x_train, y_train, validation_data=(x_test, y_test), batch_size=32, epochs=21)"
      ],
      "execution_count": 63,
      "outputs": [
        {
          "output_type": "stream",
          "text": [
            "Train on 594 samples, validate on 149 samples\n",
            "Epoch 1/21\n",
            "594/594 [==============================] - 2s 4ms/step - loss: 2.4731 - acc: 0.3704 - val_loss: 1.0714 - val_acc: 0.4094\n",
            "Epoch 2/21\n",
            "594/594 [==============================] - 1s 1ms/step - loss: 1.0896 - acc: 0.3822 - val_loss: 1.0537 - val_acc: 0.4094\n",
            "Epoch 3/21\n",
            "594/594 [==============================] - 1s 983us/step - loss: 1.0844 - acc: 0.3956 - val_loss: 1.0640 - val_acc: 0.3960\n",
            "Epoch 4/21\n",
            "594/594 [==============================] - 1s 974us/step - loss: 1.0862 - acc: 0.3552 - val_loss: 1.0675 - val_acc: 0.3960\n",
            "Epoch 5/21\n",
            "594/594 [==============================] - 1s 981us/step - loss: 1.0779 - acc: 0.3923 - val_loss: 1.0577 - val_acc: 0.4161\n",
            "Epoch 6/21\n",
            "594/594 [==============================] - 1s 968us/step - loss: 1.0704 - acc: 0.3973 - val_loss: 1.0725 - val_acc: 0.4094\n",
            "Epoch 7/21\n",
            "594/594 [==============================] - 1s 970us/step - loss: 1.0764 - acc: 0.3906 - val_loss: 1.0586 - val_acc: 0.4228\n",
            "Epoch 8/21\n",
            "594/594 [==============================] - 1s 973us/step - loss: 1.0600 - acc: 0.4091 - val_loss: 1.0575 - val_acc: 0.3893\n",
            "Epoch 9/21\n",
            "594/594 [==============================] - 1s 966us/step - loss: 1.0642 - acc: 0.4293 - val_loss: 1.0583 - val_acc: 0.4295\n",
            "Epoch 10/21\n",
            "594/594 [==============================] - 1s 983us/step - loss: 1.0639 - acc: 0.4242 - val_loss: 1.0555 - val_acc: 0.4161\n",
            "Epoch 11/21\n",
            "594/594 [==============================] - 1s 979us/step - loss: 1.0552 - acc: 0.4394 - val_loss: 1.0917 - val_acc: 0.3960\n",
            "Epoch 12/21\n",
            "352/594 [================>.............] - ETA: 0s - loss: 1.0618 - acc: 0.4091"
          ],
          "name": "stdout"
        },
        {
          "output_type": "stream",
          "text": [
            "594/594 [==============================] - 1s 988us/step - loss: 1.0522 - acc: 0.4209 - val_loss: 1.0537 - val_acc: 0.4228\n",
            "Epoch 13/21\n",
            "594/594 [==============================] - 1s 984us/step - loss: 1.0499 - acc: 0.4276 - val_loss: 1.0505 - val_acc: 0.4430\n",
            "Epoch 14/21\n",
            "594/594 [==============================] - 1s 983us/step - loss: 1.0504 - acc: 0.4512 - val_loss: 1.0880 - val_acc: 0.4094\n",
            "Epoch 15/21\n",
            "594/594 [==============================] - 1s 971us/step - loss: 1.0298 - acc: 0.4512 - val_loss: 1.0692 - val_acc: 0.4027\n",
            "Epoch 16/21\n",
            "594/594 [==============================] - 1s 977us/step - loss: 1.0301 - acc: 0.4377 - val_loss: 1.0509 - val_acc: 0.4094\n",
            "Epoch 17/21\n",
            "594/594 [==============================] - 1s 973us/step - loss: 1.0253 - acc: 0.4646 - val_loss: 1.0609 - val_acc: 0.3960\n",
            "Epoch 18/21\n",
            "594/594 [==============================] - 1s 971us/step - loss: 1.0116 - acc: 0.4848 - val_loss: 1.0667 - val_acc: 0.4295\n",
            "Epoch 19/21\n",
            "594/594 [==============================] - 1s 972us/step - loss: 1.0184 - acc: 0.4714 - val_loss: 1.0434 - val_acc: 0.3893\n",
            "Epoch 20/21\n",
            "594/594 [==============================] - 1s 979us/step - loss: 1.0092 - acc: 0.4966 - val_loss: 1.1049 - val_acc: 0.3960\n",
            "Epoch 21/21\n",
            "594/594 [==============================] - 1s 966us/step - loss: 0.9904 - acc: 0.4865 - val_loss: 1.0493 - val_acc: 0.4631\n"
          ],
          "name": "stdout"
        },
        {
          "output_type": "execute_result",
          "data": {
            "text/plain": [
              "<keras.callbacks.History at 0x7f7f93d17470>"
            ]
          },
          "metadata": {
            "tags": []
          },
          "execution_count": 63
        }
      ]
    }
  ]
}