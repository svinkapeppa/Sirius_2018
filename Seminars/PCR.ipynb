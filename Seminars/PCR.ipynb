{
 "cells": [
  {
   "cell_type": "markdown",
   "metadata": {},
   "source": [
    "# PyTorch & Plant Seedling Classification Tutorial"
   ]
  },
  {
   "cell_type": "code",
   "execution_count": 1,
   "metadata": {},
   "outputs": [],
   "source": [
    "import numpy as np\n",
    "import pandas as pd\n",
    "\n",
    "import torch\n",
    "import torch.nn as nn\n",
    "import torch.nn.functional as F\n",
    "\n",
    "from sklearn.preprocessing import LabelEncoder\n",
    "from sklearn.model_selection import train_test_split"
   ]
  },
  {
   "cell_type": "markdown",
   "metadata": {},
   "source": [
    "## Data Extraction & Preprocessing"
   ]
  },
  {
   "cell_type": "code",
   "execution_count": 2,
   "metadata": {},
   "outputs": [],
   "source": [
    "df = pd.read_csv('csv/data.csv', sep=';', index_col=0)"
   ]
  },
  {
   "cell_type": "code",
   "execution_count": 3,
   "metadata": {},
   "outputs": [
    {
     "data": {
      "text/html": [
       "<div>\n",
       "<style scoped>\n",
       "    .dataframe tbody tr th:only-of-type {\n",
       "        vertical-align: middle;\n",
       "    }\n",
       "\n",
       "    .dataframe tbody tr th {\n",
       "        vertical-align: top;\n",
       "    }\n",
       "\n",
       "    .dataframe thead th {\n",
       "        text-align: right;\n",
       "    }\n",
       "</style>\n",
       "<table border=\"1\" class=\"dataframe\">\n",
       "  <thead>\n",
       "    <tr style=\"text-align: right;\">\n",
       "      <th></th>\n",
       "      <th>p0</th>\n",
       "      <th>p1</th>\n",
       "      <th>p2</th>\n",
       "      <th>p3</th>\n",
       "      <th>p4</th>\n",
       "      <th>p5</th>\n",
       "      <th>p6</th>\n",
       "      <th>p7</th>\n",
       "      <th>p8</th>\n",
       "      <th>p9</th>\n",
       "      <th>...</th>\n",
       "      <th>p3063</th>\n",
       "      <th>p3064</th>\n",
       "      <th>p3065</th>\n",
       "      <th>p3066</th>\n",
       "      <th>p3067</th>\n",
       "      <th>p3068</th>\n",
       "      <th>p3069</th>\n",
       "      <th>p3070</th>\n",
       "      <th>p3071</th>\n",
       "      <th>label</th>\n",
       "    </tr>\n",
       "  </thead>\n",
       "  <tbody>\n",
       "    <tr>\n",
       "      <th>0</th>\n",
       "      <td>65</td>\n",
       "      <td>56</td>\n",
       "      <td>60</td>\n",
       "      <td>68</td>\n",
       "      <td>58</td>\n",
       "      <td>61</td>\n",
       "      <td>64</td>\n",
       "      <td>53</td>\n",
       "      <td>59</td>\n",
       "      <td>68</td>\n",
       "      <td>...</td>\n",
       "      <td>96</td>\n",
       "      <td>77</td>\n",
       "      <td>62</td>\n",
       "      <td>95</td>\n",
       "      <td>76</td>\n",
       "      <td>61</td>\n",
       "      <td>103</td>\n",
       "      <td>83</td>\n",
       "      <td>65</td>\n",
       "      <td>Black-grass</td>\n",
       "    </tr>\n",
       "    <tr>\n",
       "      <th>1</th>\n",
       "      <td>53</td>\n",
       "      <td>40</td>\n",
       "      <td>36</td>\n",
       "      <td>50</td>\n",
       "      <td>37</td>\n",
       "      <td>34</td>\n",
       "      <td>50</td>\n",
       "      <td>40</td>\n",
       "      <td>39</td>\n",
       "      <td>54</td>\n",
       "      <td>...</td>\n",
       "      <td>47</td>\n",
       "      <td>40</td>\n",
       "      <td>41</td>\n",
       "      <td>50</td>\n",
       "      <td>41</td>\n",
       "      <td>42</td>\n",
       "      <td>49</td>\n",
       "      <td>42</td>\n",
       "      <td>44</td>\n",
       "      <td>Black-grass</td>\n",
       "    </tr>\n",
       "    <tr>\n",
       "      <th>2</th>\n",
       "      <td>148</td>\n",
       "      <td>152</td>\n",
       "      <td>154</td>\n",
       "      <td>165</td>\n",
       "      <td>176</td>\n",
       "      <td>183</td>\n",
       "      <td>172</td>\n",
       "      <td>178</td>\n",
       "      <td>186</td>\n",
       "      <td>172</td>\n",
       "      <td>...</td>\n",
       "      <td>59</td>\n",
       "      <td>34</td>\n",
       "      <td>24</td>\n",
       "      <td>71</td>\n",
       "      <td>54</td>\n",
       "      <td>43</td>\n",
       "      <td>78</td>\n",
       "      <td>60</td>\n",
       "      <td>48</td>\n",
       "      <td>Black-grass</td>\n",
       "    </tr>\n",
       "    <tr>\n",
       "      <th>3</th>\n",
       "      <td>100</td>\n",
       "      <td>86</td>\n",
       "      <td>66</td>\n",
       "      <td>85</td>\n",
       "      <td>65</td>\n",
       "      <td>46</td>\n",
       "      <td>87</td>\n",
       "      <td>73</td>\n",
       "      <td>51</td>\n",
       "      <td>84</td>\n",
       "      <td>...</td>\n",
       "      <td>91</td>\n",
       "      <td>70</td>\n",
       "      <td>42</td>\n",
       "      <td>101</td>\n",
       "      <td>70</td>\n",
       "      <td>41</td>\n",
       "      <td>99</td>\n",
       "      <td>70</td>\n",
       "      <td>43</td>\n",
       "      <td>Black-grass</td>\n",
       "    </tr>\n",
       "    <tr>\n",
       "      <th>4</th>\n",
       "      <td>66</td>\n",
       "      <td>49</td>\n",
       "      <td>35</td>\n",
       "      <td>98</td>\n",
       "      <td>82</td>\n",
       "      <td>61</td>\n",
       "      <td>129</td>\n",
       "      <td>114</td>\n",
       "      <td>88</td>\n",
       "      <td>133</td>\n",
       "      <td>...</td>\n",
       "      <td>105</td>\n",
       "      <td>91</td>\n",
       "      <td>70</td>\n",
       "      <td>84</td>\n",
       "      <td>70</td>\n",
       "      <td>54</td>\n",
       "      <td>79</td>\n",
       "      <td>63</td>\n",
       "      <td>50</td>\n",
       "      <td>Black-grass</td>\n",
       "    </tr>\n",
       "  </tbody>\n",
       "</table>\n",
       "<p>5 rows × 3073 columns</p>\n",
       "</div>"
      ],
      "text/plain": [
       "    p0   p1   p2   p3   p4   p5   p6   p7   p8   p9     ...       p3063  \\\n",
       "0   65   56   60   68   58   61   64   53   59   68     ...          96   \n",
       "1   53   40   36   50   37   34   50   40   39   54     ...          47   \n",
       "2  148  152  154  165  176  183  172  178  186  172     ...          59   \n",
       "3  100   86   66   85   65   46   87   73   51   84     ...          91   \n",
       "4   66   49   35   98   82   61  129  114   88  133     ...         105   \n",
       "\n",
       "   p3064  p3065  p3066  p3067  p3068  p3069  p3070  p3071        label  \n",
       "0     77     62     95     76     61    103     83     65  Black-grass  \n",
       "1     40     41     50     41     42     49     42     44  Black-grass  \n",
       "2     34     24     71     54     43     78     60     48  Black-grass  \n",
       "3     70     42    101     70     41     99     70     43  Black-grass  \n",
       "4     91     70     84     70     54     79     63     50  Black-grass  \n",
       "\n",
       "[5 rows x 3073 columns]"
      ]
     },
     "execution_count": 3,
     "metadata": {},
     "output_type": "execute_result"
    }
   ],
   "source": [
    "df.head()"
   ]
  },
  {
   "cell_type": "markdown",
   "metadata": {},
   "source": [
    "---"
   ]
  },
  {
   "cell_type": "code",
   "execution_count": 4,
   "metadata": {},
   "outputs": [],
   "source": [
    "x = df.drop('label', axis=1)\n",
    "y = df.label"
   ]
  },
  {
   "cell_type": "code",
   "execution_count": 5,
   "metadata": {},
   "outputs": [
    {
     "data": {
      "text/html": [
       "<div>\n",
       "<style scoped>\n",
       "    .dataframe tbody tr th:only-of-type {\n",
       "        vertical-align: middle;\n",
       "    }\n",
       "\n",
       "    .dataframe tbody tr th {\n",
       "        vertical-align: top;\n",
       "    }\n",
       "\n",
       "    .dataframe thead th {\n",
       "        text-align: right;\n",
       "    }\n",
       "</style>\n",
       "<table border=\"1\" class=\"dataframe\">\n",
       "  <thead>\n",
       "    <tr style=\"text-align: right;\">\n",
       "      <th></th>\n",
       "      <th>p0</th>\n",
       "      <th>p1</th>\n",
       "      <th>p2</th>\n",
       "      <th>p3</th>\n",
       "      <th>p4</th>\n",
       "      <th>p5</th>\n",
       "      <th>p6</th>\n",
       "      <th>p7</th>\n",
       "      <th>p8</th>\n",
       "      <th>p9</th>\n",
       "      <th>...</th>\n",
       "      <th>p3062</th>\n",
       "      <th>p3063</th>\n",
       "      <th>p3064</th>\n",
       "      <th>p3065</th>\n",
       "      <th>p3066</th>\n",
       "      <th>p3067</th>\n",
       "      <th>p3068</th>\n",
       "      <th>p3069</th>\n",
       "      <th>p3070</th>\n",
       "      <th>p3071</th>\n",
       "    </tr>\n",
       "  </thead>\n",
       "  <tbody>\n",
       "    <tr>\n",
       "      <th>0</th>\n",
       "      <td>65</td>\n",
       "      <td>56</td>\n",
       "      <td>60</td>\n",
       "      <td>68</td>\n",
       "      <td>58</td>\n",
       "      <td>61</td>\n",
       "      <td>64</td>\n",
       "      <td>53</td>\n",
       "      <td>59</td>\n",
       "      <td>68</td>\n",
       "      <td>...</td>\n",
       "      <td>66</td>\n",
       "      <td>96</td>\n",
       "      <td>77</td>\n",
       "      <td>62</td>\n",
       "      <td>95</td>\n",
       "      <td>76</td>\n",
       "      <td>61</td>\n",
       "      <td>103</td>\n",
       "      <td>83</td>\n",
       "      <td>65</td>\n",
       "    </tr>\n",
       "    <tr>\n",
       "      <th>1</th>\n",
       "      <td>53</td>\n",
       "      <td>40</td>\n",
       "      <td>36</td>\n",
       "      <td>50</td>\n",
       "      <td>37</td>\n",
       "      <td>34</td>\n",
       "      <td>50</td>\n",
       "      <td>40</td>\n",
       "      <td>39</td>\n",
       "      <td>54</td>\n",
       "      <td>...</td>\n",
       "      <td>41</td>\n",
       "      <td>47</td>\n",
       "      <td>40</td>\n",
       "      <td>41</td>\n",
       "      <td>50</td>\n",
       "      <td>41</td>\n",
       "      <td>42</td>\n",
       "      <td>49</td>\n",
       "      <td>42</td>\n",
       "      <td>44</td>\n",
       "    </tr>\n",
       "    <tr>\n",
       "      <th>2</th>\n",
       "      <td>148</td>\n",
       "      <td>152</td>\n",
       "      <td>154</td>\n",
       "      <td>165</td>\n",
       "      <td>176</td>\n",
       "      <td>183</td>\n",
       "      <td>172</td>\n",
       "      <td>178</td>\n",
       "      <td>186</td>\n",
       "      <td>172</td>\n",
       "      <td>...</td>\n",
       "      <td>20</td>\n",
       "      <td>59</td>\n",
       "      <td>34</td>\n",
       "      <td>24</td>\n",
       "      <td>71</td>\n",
       "      <td>54</td>\n",
       "      <td>43</td>\n",
       "      <td>78</td>\n",
       "      <td>60</td>\n",
       "      <td>48</td>\n",
       "    </tr>\n",
       "    <tr>\n",
       "      <th>3</th>\n",
       "      <td>100</td>\n",
       "      <td>86</td>\n",
       "      <td>66</td>\n",
       "      <td>85</td>\n",
       "      <td>65</td>\n",
       "      <td>46</td>\n",
       "      <td>87</td>\n",
       "      <td>73</td>\n",
       "      <td>51</td>\n",
       "      <td>84</td>\n",
       "      <td>...</td>\n",
       "      <td>48</td>\n",
       "      <td>91</td>\n",
       "      <td>70</td>\n",
       "      <td>42</td>\n",
       "      <td>101</td>\n",
       "      <td>70</td>\n",
       "      <td>41</td>\n",
       "      <td>99</td>\n",
       "      <td>70</td>\n",
       "      <td>43</td>\n",
       "    </tr>\n",
       "    <tr>\n",
       "      <th>4</th>\n",
       "      <td>66</td>\n",
       "      <td>49</td>\n",
       "      <td>35</td>\n",
       "      <td>98</td>\n",
       "      <td>82</td>\n",
       "      <td>61</td>\n",
       "      <td>129</td>\n",
       "      <td>114</td>\n",
       "      <td>88</td>\n",
       "      <td>133</td>\n",
       "      <td>...</td>\n",
       "      <td>73</td>\n",
       "      <td>105</td>\n",
       "      <td>91</td>\n",
       "      <td>70</td>\n",
       "      <td>84</td>\n",
       "      <td>70</td>\n",
       "      <td>54</td>\n",
       "      <td>79</td>\n",
       "      <td>63</td>\n",
       "      <td>50</td>\n",
       "    </tr>\n",
       "  </tbody>\n",
       "</table>\n",
       "<p>5 rows × 3072 columns</p>\n",
       "</div>"
      ],
      "text/plain": [
       "    p0   p1   p2   p3   p4   p5   p6   p7   p8   p9  ...    p3062  p3063  \\\n",
       "0   65   56   60   68   58   61   64   53   59   68  ...       66     96   \n",
       "1   53   40   36   50   37   34   50   40   39   54  ...       41     47   \n",
       "2  148  152  154  165  176  183  172  178  186  172  ...       20     59   \n",
       "3  100   86   66   85   65   46   87   73   51   84  ...       48     91   \n",
       "4   66   49   35   98   82   61  129  114   88  133  ...       73    105   \n",
       "\n",
       "   p3064  p3065  p3066  p3067  p3068  p3069  p3070  p3071  \n",
       "0     77     62     95     76     61    103     83     65  \n",
       "1     40     41     50     41     42     49     42     44  \n",
       "2     34     24     71     54     43     78     60     48  \n",
       "3     70     42    101     70     41     99     70     43  \n",
       "4     91     70     84     70     54     79     63     50  \n",
       "\n",
       "[5 rows x 3072 columns]"
      ]
     },
     "execution_count": 5,
     "metadata": {},
     "output_type": "execute_result"
    }
   ],
   "source": [
    "x.head()"
   ]
  },
  {
   "cell_type": "code",
   "execution_count": 6,
   "metadata": {},
   "outputs": [
    {
     "data": {
      "text/plain": [
       "0    Black-grass\n",
       "1    Black-grass\n",
       "2    Black-grass\n",
       "3    Black-grass\n",
       "4    Black-grass\n",
       "Name: label, dtype: object"
      ]
     },
     "execution_count": 6,
     "metadata": {},
     "output_type": "execute_result"
    }
   ],
   "source": [
    "y.head()"
   ]
  },
  {
   "cell_type": "markdown",
   "metadata": {},
   "source": [
    "---"
   ]
  },
  {
   "cell_type": "code",
   "execution_count": 7,
   "metadata": {},
   "outputs": [],
   "source": [
    "l_encoder = LabelEncoder()\n",
    "y = l_encoder.fit_transform(y)"
   ]
  },
  {
   "cell_type": "code",
   "execution_count": 8,
   "metadata": {},
   "outputs": [],
   "source": [
    "x = np.array(x).reshape(-1, 32, 32, 3)\n",
    "x = np.transpose(x, (0, 3, 1, 2))"
   ]
  },
  {
   "cell_type": "markdown",
   "metadata": {},
   "source": [
    "---"
   ]
  },
  {
   "cell_type": "code",
   "execution_count": 9,
   "metadata": {},
   "outputs": [],
   "source": [
    "x_train, x_test, y_train, y_test = train_test_split(x, y,\n",
    "                                                    random_state=42,\n",
    "                                                    test_size=0.2)"
   ]
  },
  {
   "cell_type": "markdown",
   "metadata": {},
   "source": [
    "---"
   ]
  },
  {
   "cell_type": "code",
   "execution_count": 10,
   "metadata": {},
   "outputs": [],
   "source": [
    "x_train = torch.FloatTensor(x_train)\n",
    "x_test = torch.FloatTensor(x_test)\n",
    "y_train = torch.LongTensor(y_train)\n",
    "y_test = torch.LongTensor(y_test)"
   ]
  },
  {
   "cell_type": "markdown",
   "metadata": {},
   "source": [
    "## Net parameters"
   ]
  },
  {
   "cell_type": "code",
   "execution_count": 11,
   "metadata": {},
   "outputs": [],
   "source": [
    "EPOCHES = 50\n",
    "BATCH_SIZE = 32\n",
    "NUM_CLASSES = 12"
   ]
  },
  {
   "cell_type": "markdown",
   "metadata": {},
   "source": [
    "## Batch Retrieval"
   ]
  },
  {
   "cell_type": "code",
   "execution_count": 12,
   "metadata": {},
   "outputs": [],
   "source": [
    "def get_batch(x, y=None, batch_size=None):\n",
    "    if batch_size is None:\n",
    "        batch_size = BATCH_SIZE\n",
    "    \n",
    "    selected = np.random.randint(0, x.shape[0], batch_size)\n",
    "    \n",
    "    if y is None:\n",
    "        return x[selected]\n",
    "    else:\n",
    "        return x[selected], y[selected]"
   ]
  },
  {
   "cell_type": "markdown",
   "metadata": {},
   "source": [
    "## Net Architecture"
   ]
  },
  {
   "cell_type": "code",
   "execution_count": 13,
   "metadata": {},
   "outputs": [],
   "source": [
    "class MainNet(nn.Module):\n",
    "    def __init__(self):\n",
    "        super(MainNet, self).__init__()\n",
    "        self.conv_1 = nn.Conv2d(in_channels=3, out_channels=32, kernel_size=3)\n",
    "        self.conv_2 = nn.Conv2d(in_channels=32, out_channels=64, kernel_size=3)\n",
    "        self.conv_3 = nn.Conv2d(in_channels=64, out_channels=128, kernel_size=3)\n",
    "        self.pool_1 = nn.MaxPool2d(kernel_size=2, stride=2)\n",
    "        self.conv_4 = nn.Conv2d(in_channels=128, out_channels=256, kernel_size=3)\n",
    "        self.pool_2 = nn.MaxPool2d(kernel_size=2, stride=2)\n",
    "        self.dropout_1 = nn.Dropout2d(p=0.3)\n",
    "        self.conv_5 = nn.Conv2d(in_channels=256, out_channels=512, kernel_size=3)\n",
    "        self.dense_1 = nn.Linear(3 * 3 * 512, 1024)\n",
    "        self.dense_2 = nn.Linear(1024, 256)\n",
    "        self.dense_3 = nn.Linear(256, NUM_CLASSES)\n",
    "\n",
    "    def forward(self, x):\n",
    "        x = F.relu(self.conv_1(x))\n",
    "        x = F.relu(self.conv_2(x))\n",
    "        x = self.pool_1(F.relu(self.conv_3(x)))\n",
    "        x = self.pool_2(F.relu(self.conv_4(x)))\n",
    "        x = F.relu(self.dropout_1(x))\n",
    "        x = F.relu(self.conv_5(x))\n",
    "        x = x.view(-1, 3 * 3 * 512)\n",
    "        x = F.relu(self.dense_1(x))\n",
    "        x = F.relu(self.dense_2(x))\n",
    "        x = F.dropout(x, training=self.training)\n",
    "        x = self.dense_3(x)\n",
    "        return x"
   ]
  },
  {
   "cell_type": "markdown",
   "metadata": {},
   "source": [
    "---"
   ]
  },
  {
   "cell_type": "code",
   "execution_count": 14,
   "metadata": {},
   "outputs": [],
   "source": [
    "net = MainNet()\n",
    "\n",
    "loss_fn = torch.nn.CrossEntropyLoss()\n",
    "\n",
    "learning_rate = 1e-4\n",
    "optimizer = torch.optim.Adam(net.parameters(), lr=learning_rate)"
   ]
  },
  {
   "cell_type": "markdown",
   "metadata": {},
   "source": [
    "## Net Training"
   ]
  },
  {
   "cell_type": "code",
   "execution_count": 15,
   "metadata": {},
   "outputs": [
    {
     "name": "stdout",
     "output_type": "stream",
     "text": [
      "EPOCH\t   1\t LOSS: 3.062\n",
      "EPOCH\t   5\t LOSS: 1.353\n",
      "EPOCH\t  10\t LOSS: 0.714\n",
      "EPOCH\t  15\t LOSS: 0.443\n",
      "EPOCH\t  20\t LOSS: 0.273\n",
      "EPOCH\t  25\t LOSS: 0.196\n",
      "EPOCH\t  30\t LOSS: 0.116\n",
      "EPOCH\t  35\t LOSS: 0.098\n",
      "EPOCH\t  40\t LOSS: 0.066\n",
      "EPOCH\t  45\t LOSS: 0.052\n",
      "EPOCH\t  50\t LOSS: 0.034\n"
     ]
    }
   ],
   "source": [
    "for epoch in range(EPOCHES):\n",
    "    total_loss = .0\n",
    "    for i in range(x_train.shape[0] // BATCH_SIZE):\n",
    "        x_batch, y_batch = get_batch(x_train, y_train, BATCH_SIZE)\n",
    "        optimizer.zero_grad()\n",
    "        y_pred = net(x_batch)\n",
    "        loss = loss_fn(y_pred, y_batch)\n",
    "        loss.backward()\n",
    "        optimizer.step()\n",
    "        total_loss += loss.item()\n",
    "    if epoch % 5 == 4 or epoch == 0:\n",
    "        print('EPOCH\\t {0:3d}\\t LOSS: {1:.3f}'.format(epoch + 1, total_loss / 100))"
   ]
  },
  {
   "cell_type": "markdown",
   "metadata": {},
   "source": [
    "## Net Accuracy"
   ]
  },
  {
   "cell_type": "code",
   "execution_count": 16,
   "metadata": {},
   "outputs": [],
   "source": [
    "def total_accuracy(net, x_test, y_test):\n",
    "    correct = 0\n",
    "    \n",
    "    with torch.no_grad():\n",
    "        for i in range(len(x_test)):\n",
    "            logits = net(x_test[i: i + 1])\n",
    "            _, pred = torch.max(logits, 1)\n",
    "            if pred == y_test[i]:\n",
    "                correct += 1\n",
    "\n",
    "    print('TOTAL ACCURACY OF THE NET\\n\\t{0:.3f}'.format(correct / x_test.shape[0]))"
   ]
  },
  {
   "cell_type": "code",
   "execution_count": 22,
   "metadata": {},
   "outputs": [],
   "source": [
    "def class_accuracy(net, x_test, y_test):\n",
    "    correct = list(0 for i in range(NUM_CLASSES))\n",
    "    total = list(0 for i in range(NUM_CLASSES))\n",
    "\n",
    "    with torch.no_grad():\n",
    "        for i in range(len(x_test)):\n",
    "            logits = net(x_test[i: i + 1])\n",
    "            _, pred = torch.max(logits, 1)\n",
    "            mask = (pred == y_test[i])\n",
    "            correct[y_test[i]] += mask.item()\n",
    "            total[y_test[i]] += 1\n",
    "\n",
    "    print('CLASSWISE ACCURACY\\n')\n",
    "    for i in range(NUM_CLASSES):\n",
    "        print('\\tACCURACY OF CLASS {0:2d}: {1:.3f}%'.format(i, 100 * correct[i] / total[i]))"
   ]
  },
  {
   "cell_type": "markdown",
   "metadata": {},
   "source": [
    "---"
   ]
  },
  {
   "cell_type": "code",
   "execution_count": 27,
   "metadata": {},
   "outputs": [
    {
     "name": "stdout",
     "output_type": "stream",
     "text": [
      "TOTAL ACCURACY OF THE NET\n",
      "\t0.805\n"
     ]
    }
   ],
   "source": [
    "total_accuracy(net, x_test, y_test)"
   ]
  },
  {
   "cell_type": "code",
   "execution_count": 24,
   "metadata": {},
   "outputs": [
    {
     "name": "stdout",
     "output_type": "stream",
     "text": [
      "CLASSWISE ACCURACY\n",
      "\n",
      "\tACCURACY OF CLASS  0: 26.027%\n",
      "\tACCURACY OF CLASS  1: 91.000%\n",
      "\tACCURACY OF CLASS  2: 78.462%\n",
      "\tACCURACY OF CLASS  3: 91.391%\n",
      "\tACCURACY OF CLASS  4: 56.410%\n",
      "\tACCURACY OF CLASS  5: 82.524%\n",
      "\tACCURACY OF CLASS  6: 89.437%\n",
      "\tACCURACY OF CLASS  7: 67.442%\n",
      "\tACCURACY OF CLASS  8: 85.586%\n",
      "\tACCURACY OF CLASS  9: 74.242%\n",
      "\tACCURACY OF CLASS 10: 90.517%\n",
      "\tACCURACY OF CLASS 11: 74.737%\n"
     ]
    }
   ],
   "source": [
    "class_accuracy(net, x_test, y_test)"
   ]
  },
  {
   "cell_type": "markdown",
   "metadata": {},
   "source": [
    "## Saving the Net"
   ]
  },
  {
   "cell_type": "code",
   "execution_count": 20,
   "metadata": {},
   "outputs": [],
   "source": [
    "torch.save(net.state_dict(), 'MainNet')"
   ]
  }
 ],
 "metadata": {
  "kernelspec": {
   "display_name": "Python 3",
   "language": "python",
   "name": "python3"
  },
  "language_info": {
   "codemirror_mode": {
    "name": "ipython",
    "version": 3
   },
   "file_extension": ".py",
   "mimetype": "text/x-python",
   "name": "python",
   "nbconvert_exporter": "python",
   "pygments_lexer": "ipython3",
   "version": "3.6.5"
  }
 },
 "nbformat": 4,
 "nbformat_minor": 2
}
