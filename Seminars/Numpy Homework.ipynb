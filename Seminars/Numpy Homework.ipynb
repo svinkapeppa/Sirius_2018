{
 "cells": [
  {
   "cell_type": "markdown",
   "metadata": {},
   "source": [
    "<p style=\"align: center;\"><img src=\"https://static.tildacdn.com/tild6636-3531-4239-b465-376364646465/Deep_Learning_School.png\", width=300, height=300></p>\n",
    "\n",
    "<h3 style=\"text-align: center;\"><b>Физтех-Школа Прикладной математики и информатики (ФПМИ) МФТИ</b></h3>"
   ]
  },
  {
   "cell_type": "markdown",
   "metadata": {},
   "source": [
    "<h2 style=\"text-align: center;\"><b>Python. Домашнее задание: Основы Python, Numpy, Scipy</b></h2>"
   ]
  },
  {
   "cell_type": "code",
   "execution_count": 1,
   "metadata": {},
   "outputs": [],
   "source": [
    "import numpy as np\n",
    "\n",
    "from scipy.stats import uniform\n",
    "from scipy.optimize import fmin"
   ]
  },
  {
   "cell_type": "markdown",
   "metadata": {},
   "source": [
    "### Основы Python"
   ]
  },
  {
   "cell_type": "markdown",
   "metadata": {},
   "source": [
    "### Задача 0"
   ]
  },
  {
   "cell_type": "markdown",
   "metadata": {},
   "source": [
    "На самом деле тут несколько задач: нужно прорешать все задачи в ноутбуке с первой лекции ([python][1]basics.ipynb).  \n",
    "Тот ноутбук послать в письме с домашкой (вместе с этим ноутбуком).  \n",
    "Итого у вас в письме с домашкой будет 2 файла с расширением .ipynb (решённый ноутбук с 1-ой лекции и этот ноутбук).  \n",
    "\n",
    "*Примечание:* Для того, чтобы сделать задачу, связанную с чтением файлов (6-ая задача), нужно скачать материалы (всю папку [lesson1]basics) в гугл-диске с материалами. Ссылка на гугл-диск: https://drive.google.com/drive/u/0/folders/14XCkhcvXmT4cs4mOy10MD1hcFpZo8sNV (python -> [lesson1]basics -> скачать всю папку, материалы там)"
   ]
  },
  {
   "cell_type": "markdown",
   "metadata": {},
   "source": [
    "# Numpy"
   ]
  },
  {
   "cell_type": "markdown",
   "metadata": {},
   "source": [
    "### Задача 1.1\n",
    "В первой задаче вам предлагается перемножить две квадратные матрицы двумя способами -- без использования пакета ***numpy*** и с ним."
   ]
  },
  {
   "cell_type": "code",
   "execution_count": 2,
   "metadata": {},
   "outputs": [
    {
     "name": "stdout",
     "output_type": "stream",
     "text": [
      "dim A = 2\n",
      "dim B = 2\n",
      "\n",
      "Shape of A is: (177, 111)\n",
      "Shape of B is: (111, 100)\n",
      "\n",
      "\tMatrix A\n",
      "[[0.16938695 0.82647705 0.08977421]\n",
      " [0.16322034 0.00720073 0.7775328 ]\n",
      " [0.37688763 0.51960273 0.14742066]]\n",
      "\n",
      "\tMatrix B\n",
      "[[0.68040163 0.07203523 0.75860295]\n",
      " [0.55007838 0.89306785 0.48320618]\n",
      " [0.72369493 0.55472736 0.23122649]]\n",
      "\n"
     ]
    }
   ],
   "source": [
    "A = np.random.sample((177, 111))\n",
    "B = np.random.sample((111, 100))\n",
    "\n",
    "print('dim A = {}\\ndim B = {}\\n'.format(A.ndim, B.ndim))\n",
    "\n",
    "print('Shape of A is: {}'.format(A.shape))\n",
    "print('Shape of B is: {}\\n'.format(B.shape))\n",
    "\n",
    "print('\\tMatrix A\\n{}\\n'.format(A[:3, :3]))\n",
    "print('\\tMatrix B\\n{}\\n'.format(B[:3, :3]))"
   ]
  },
  {
   "cell_type": "code",
   "execution_count": 3,
   "metadata": {},
   "outputs": [],
   "source": [
    "def mult(A, B):\n",
    "    C = [([0] * B.shape[1]) for i in range(A.shape[0])]\n",
    "    for i in range(A.shape[0]):\n",
    "        for j in range(B.shape[1]):\n",
    "            acc = 0\n",
    "            for k in range(A.shape[1]):\n",
    "                acc += A[i][k] * B[k][j]\n",
    "            C[i][j] = acc\n",
    "    return C"
   ]
  },
  {
   "cell_type": "code",
   "execution_count": 4,
   "metadata": {},
   "outputs": [],
   "source": [
    "def np_mult(A, B):\n",
    "    return np.dot(A, B)"
   ]
  },
  {
   "cell_type": "code",
   "execution_count": 5,
   "metadata": {
    "scrolled": true
   },
   "outputs": [
    {
     "name": "stdout",
     "output_type": "stream",
     "text": [
      "CPU times: user 1.08 s, sys: 11.3 ms, total: 1.1 s\n",
      "Wall time: 1.11 s\n"
     ]
    }
   ],
   "source": [
    "%%time\n",
    "tmp = mult(A, B)"
   ]
  },
  {
   "cell_type": "code",
   "execution_count": 6,
   "metadata": {},
   "outputs": [
    {
     "name": "stdout",
     "output_type": "stream",
     "text": [
      "CPU times: user 885 µs, sys: 298 µs, total: 1.18 ms\n",
      "Wall time: 716 µs\n"
     ]
    }
   ],
   "source": [
    "%%time\n",
    "tmp = np_mult(A, B)"
   ]
  },
  {
   "cell_type": "markdown",
   "metadata": {},
   "source": [
    "### Задача 1.2"
   ]
  },
  {
   "cell_type": "markdown",
   "metadata": {},
   "source": [
    "Умножить матрицы вручную и в Numpy. Сверить результат, убедиться, что всё совпало:"
   ]
  },
  {
   "cell_type": "code",
   "execution_count": 7,
   "metadata": {},
   "outputs": [
    {
     "name": "stdout",
     "output_type": "stream",
     "text": [
      "\tAre results the same?\n",
      "[[ True  True  True]\n",
      " [ True  True  True]]\n"
     ]
    }
   ],
   "source": [
    "A = np.array([[10, 5, -4], [12, 1, -14]])\n",
    "B = np.array([[1, 2, 3], [4, 5, 6], [7, 8, 9]])\n",
    "\n",
    "slow = mult(A, B)\n",
    "fast = np_mult(A, B)\n",
    "\n",
    "print('\\tAre results the same?\\n{}'.format(slow == fast))"
   ]
  },
  {
   "cell_type": "markdown",
   "metadata": {},
   "source": [
    "### Задача 2\n",
    "Напишите функцию, которая по данной последовательности $\\{A_i\\}_{i=1}^n$ строит последовательность $S_n$, где $S_k = \\frac{A_1 + ... + A_k}{k}$.  \n",
    "Аналогично -- с помощью библиотеки **NumPy** и без нее. Сравните скорость."
   ]
  },
  {
   "cell_type": "code",
   "execution_count": 8,
   "metadata": {},
   "outputs": [],
   "source": [
    "def sequence(A):\n",
    "    S = [0] * (len(A))\n",
    "    acc = 0\n",
    "    for k in range(1, len(A) + 1):\n",
    "        acc += A[k - 1]\n",
    "        S[k - 1] = acc / k\n",
    "    return S"
   ]
  },
  {
   "cell_type": "code",
   "execution_count": 9,
   "metadata": {},
   "outputs": [],
   "source": [
    "def np_sequence(A):\n",
    "    return np.cumsum(A) / np.arange(1, len(A) + 1)"
   ]
  },
  {
   "cell_type": "code",
   "execution_count": 10,
   "metadata": {},
   "outputs": [
    {
     "name": "stdout",
     "output_type": "stream",
     "text": [
      "CPU times: user 4.77 s, sys: 103 ms, total: 4.88 s\n",
      "Wall time: 4.9 s\n",
      "CPU times: user 78.7 ms, sys: 41.3 ms, total: 120 ms\n",
      "Wall time: 120 ms\n",
      "\n",
      "Difference: 0.0\n"
     ]
    }
   ],
   "source": [
    "A = uniform.rvs(size=10 ** 7) \n",
    "\n",
    "%time S1 = sequence(A)\n",
    "%time S2 = np_sequence(A)\n",
    "\n",
    "print('\\nDifference: {}'.format(np.abs(S1 - S2).sum()))"
   ]
  },
  {
   "cell_type": "markdown",
   "metadata": {},
   "source": [
    "### Задача 3\n",
    "\n",
    "Пусть задан некоторый массив $X$. Надо построить новый массив, где все элементы с нечетными индексами требуется заменить на число $a$ (если оно не указано, то на 1). Все четные элементы исходного массива нужно возвести в куб и записать в обратном порядке относительно позиций этих элементов. Массив $X$ при этом должен остаться *без изменений*. В конце требуется слить массив X с преобразованным X (\"склеить горизонтально\") и вывести в обратном порядке результат.  \n",
    "\n",
    "Пример:  \n",
    "X = [100, 200, 300, 400, 500] -> [100, a, 300, a, 500] -> [500^3, a, 300^3, a, 100^3] -> склеиваем -> [100, 200, 300, 400, 500, 500^3, a, 300^3, a, 100^3]"
   ]
  },
  {
   "cell_type": "code",
   "execution_count": 11,
   "metadata": {},
   "outputs": [],
   "source": [
    "def transformation(X, a = 1):\n",
    "    tmp = [0] * len(X)\n",
    "    for i in range(len(X)):\n",
    "        if i % 2 == 0:\n",
    "            if len(X) % 2 == 0:\n",
    "                tmp[len(X) - i - 2] = X[i] ** 3\n",
    "            else:\n",
    "                tmp[len(X) - i - 1] = X[i] ** 3\n",
    "        else:\n",
    "            tmp[i] = a\n",
    "\n",
    "    Y = [0] * 2 * len(X)\n",
    "    for i in range(len(Y)):\n",
    "        if i < len(X):\n",
    "            Y[i] = X[i]\n",
    "        else:\n",
    "            Y[i] = tmp[i - len(X)]\n",
    "\n",
    "    return Y"
   ]
  },
  {
   "cell_type": "code",
   "execution_count": 12,
   "metadata": {},
   "outputs": [],
   "source": [
    "def np_transformation(X, a = 1):\n",
    "    Y = np.copy(X)\n",
    "    Y[1::2] = a\n",
    "    Y[::2] = (Y[::2] ** 3)[::-1]\n",
    "    return np.hstack((X, Y))"
   ]
  },
  {
   "cell_type": "code",
   "execution_count": 13,
   "metadata": {},
   "outputs": [
    {
     "name": "stdout",
     "output_type": "stream",
     "text": [
      "\tQ\n",
      "[  1   2   3   4   5 125   1  27   1   1]\n",
      "\tT\n",
      "[1, 2, 3, 4, 5, 125, 1, 27, 1, 1]\n"
     ]
    }
   ],
   "source": [
    "X = np.array([1, 2, 3, 4, 5])\n",
    "\n",
    "Q = np_transformation(X)\n",
    "T = transformation(X)\n",
    "\n",
    "print('\\tQ\\n{}'.format(Q))\n",
    "print('\\tT\\n{}'.format(T))"
   ]
  },
  {
   "cell_type": "code",
   "execution_count": 14,
   "metadata": {},
   "outputs": [
    {
     "name": "stdout",
     "output_type": "stream",
     "text": [
      "CPU times: user 8.85 s, sys: 264 ms, total: 9.11 s\n",
      "Wall time: 9.19 s\n",
      "CPU times: user 183 ms, sys: 67.6 ms, total: 250 ms\n",
      "Wall time: 250 ms\n",
      "\n",
      "Difference: 0.0\n"
     ]
    }
   ],
   "source": [
    "X = uniform.rvs(size=10**7) \n",
    "\n",
    "%time S1 = transformation(X)\n",
    "%time S2 = np_transformation(X)\n",
    "\n",
    "print('\\nDifference: {}'.format(np.abs(S1 - S2).sum()))"
   ]
  },
  {
   "cell_type": "markdown",
   "metadata": {},
   "source": [
    "# SciPy"
   ]
  },
  {
   "cell_type": "markdown",
   "metadata": {},
   "source": [
    "### Задача 4.1"
   ]
  },
  {
   "cell_type": "markdown",
   "metadata": {},
   "source": [
    "Дана функция f(), Вам нужно найти её **максимум** с помощью библиотеки scipy."
   ]
  },
  {
   "cell_type": "code",
   "execution_count": 15,
   "metadata": {},
   "outputs": [],
   "source": [
    "def f(x):\n",
    "    return -5 * x ** 2 + 9 * x - 2 "
   ]
  },
  {
   "cell_type": "code",
   "execution_count": 16,
   "metadata": {},
   "outputs": [
    {
     "name": "stdout",
     "output_type": "stream",
     "text": [
      "Optimization terminated successfully.\n",
      "         Current function value: -2.050000\n",
      "         Iterations: 25\n",
      "         Function evaluations: 50\n"
     ]
    }
   ],
   "source": [
    "tmp = fmin(lambda x: -f(x), 0)"
   ]
  },
  {
   "cell_type": "markdown",
   "metadata": {},
   "source": [
    "### Задача 4.2"
   ]
  },
  {
   "cell_type": "markdown",
   "metadata": {},
   "source": [
    "Оптимизируйте (найди минимум и точку минимума) функции двух переменных:"
   ]
  },
  {
   "cell_type": "code",
   "execution_count": 17,
   "metadata": {},
   "outputs": [],
   "source": [
    "def f(x):\n",
    "    return (x[0] + 2 * x[1] - 7) ** 2 + (2 * x[0] + x[1] - 5) ** 2"
   ]
  },
  {
   "cell_type": "code",
   "execution_count": 18,
   "metadata": {},
   "outputs": [
    {
     "name": "stdout",
     "output_type": "stream",
     "text": [
      "Optimization terminated successfully.\n",
      "         Current function value: 0.000000\n",
      "         Iterations: 67\n",
      "         Function evaluations: 132\n",
      "Point of minimum:\n",
      "x[0] = 1.000018462214465\tx[1] = 2.9999657858162263\n"
     ]
    }
   ],
   "source": [
    "point = fmin(f, np.array((0, 0)))\n",
    "print('Point of minimum:\\nx[0] = {}\\tx[1] = {}'.format(point[0], point[1]))"
   ]
  }
 ],
 "metadata": {
  "kernelspec": {
   "display_name": "Python 3",
   "language": "python",
   "name": "python3"
  },
  "language_info": {
   "codemirror_mode": {
    "name": "ipython",
    "version": 3
   },
   "file_extension": ".py",
   "mimetype": "text/x-python",
   "name": "python",
   "nbconvert_exporter": "python",
   "pygments_lexer": "ipython3",
   "version": "3.6.5"
  }
 },
 "nbformat": 4,
 "nbformat_minor": 2
}
