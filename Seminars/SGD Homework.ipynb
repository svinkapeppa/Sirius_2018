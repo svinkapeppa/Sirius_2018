{
 "cells": [
  {
   "cell_type": "markdown",
   "metadata": {},
   "source": [
    "# Домашнее задание по программированию"
   ]
  },
  {
   "cell_type": "markdown",
   "metadata": {},
   "source": [
    "В данной домашней работе вам предстоит ознакомиться с задачей классификации и ее двумя решениями: аналитическим и с помощью SGD. Затем вам будет необходимо изменить код так, чтобы он смог решать задачу регрессии (так же двумя способами).\n",
    "\n",
    "Полезные теоретические материалы:\n",
    "* [Лекции для студентов МФТИ.](https://github.com/ml-mipt/ml-mipt-part1/blob/master/2018/lectures/Lecture_06_linear_models.pdf) В данной лекции приводится основная часть кода для SGD\n",
    "* [Презентации с прошлого семинара](https://drive.google.com/drive/u/0/folders/1JI3pMlmiACFn19tSTR_C3XAOT4e37tqp)\n",
    "* [Здесь](https://onlinecourses.science.psu.edu/stat501/node/250/) можно посмотреть 1 и 2 пункты"
   ]
  },
  {
   "cell_type": "markdown",
   "metadata": {},
   "source": [
    "Сначала импортируем все необходимые для работы библиотеки и функции."
   ]
  },
  {
   "cell_type": "code",
   "execution_count": 1,
   "metadata": {},
   "outputs": [],
   "source": [
    "import numpy as np\n",
    "\n",
    "from random import randint\n",
    "\n",
    "from sklearn import datasets\n",
    "from sklearn.model_selection import train_test_split\n",
    "from sklearn.metrics import accuracy_score"
   ]
  },
  {
   "cell_type": "markdown",
   "metadata": {},
   "source": [
    "## Breast Cancer"
   ]
  },
  {
   "cell_type": "markdown",
   "metadata": {},
   "source": [
    "Для примера рассмотрим решение задачи классификации больных раком с помощью линейной регресии. Необходимо для каждого человека сказать, доброкачественная или злокачественная у него опухоль.\n",
    "\n",
    "Загружаем датасет."
   ]
  },
  {
   "cell_type": "code",
   "execution_count": 2,
   "metadata": {},
   "outputs": [],
   "source": [
    "cancer = datasets.load_breast_cancer()\n",
    "\n",
    "# Описание датасета можно вывести с помощью следующей функции\n",
    "# cancer.DESCR"
   ]
  },
  {
   "cell_type": "markdown",
   "metadata": {},
   "source": [
    "Добавим столбец из единичек - чтобы формулы легко переписывались в виде операций над матрциами и векторами."
   ]
  },
  {
   "cell_type": "code",
   "execution_count": 3,
   "metadata": {},
   "outputs": [],
   "source": [
    "X = np.hstack((np.ones(len(cancer.target)).reshape(-1,1),cancer.data))"
   ]
  },
  {
   "cell_type": "markdown",
   "metadata": {},
   "source": [
    "Разобьем всю выборку на **обучающую (train)** и **тестовую (test)**. Идея заключается в том, что на обучающей выборке вы, собственно, обучаетесь, то есть подбираете веса вашей модели. На тестовой выборке вы находите ответы вашего алгоритма и сравниваете их с истинными ответами."
   ]
  },
  {
   "cell_type": "code",
   "execution_count": 4,
   "metadata": {},
   "outputs": [],
   "source": [
    "X_train, X_test, y_train, y_test = train_test_split(X, cancer.target, random_state=42)"
   ]
  },
  {
   "cell_type": "markdown",
   "metadata": {},
   "source": [
    "### Аналитическое решение"
   ]
  },
  {
   "cell_type": "markdown",
   "metadata": {},
   "source": [
    "Для удобства напишем класс **LinearRegression**. У него есть два метода:\n",
    "1. **fit** - вычисляет оптимальные веса модели\n",
    "2. **predict** - классифицирует объект"
   ]
  },
  {
   "cell_type": "code",
   "execution_count": 5,
   "metadata": {},
   "outputs": [],
   "source": [
    "class LinearRegressionClassifier:\n",
    "    def fit(self, X, y):\n",
    "        self.w = np.linalg.inv(X.T @ X) @ X.T @ y\n",
    "\n",
    "    def predict(self, X):\n",
    "        return np.array(list(map(lambda x: 1 if x >=0 else 0, X @ self.w)))\n",
    "\n",
    "    def accuracy(self, y, y_pred):\n",
    "        print('The accuracy of the classifier is {0:.3f}'.format(accuracy_score(y, y_pred)))"
   ]
  },
  {
   "cell_type": "markdown",
   "metadata": {},
   "source": [
    "Полезные ссылки:\n",
    "1. [Если не знаете, что значат слова \"Класс\" и \"ООП\"](https://younglinux.info/oopython.php) - достаточно посмотреть первые 3 части, но по желанию можно прочитать и дальше"
   ]
  },
  {
   "cell_type": "markdown",
   "metadata": {},
   "source": [
    "Точность нашего алгоритма будем определять с помощью функции **accuracy**. Про метрики качества еще поговорим на семинаре."
   ]
  },
  {
   "cell_type": "markdown",
   "metadata": {},
   "source": [
    "Теперь мы можем *работать*. Есть 4 этапа:\n",
    "1. Создать классификатор\n",
    "2. Обучить его (подобрать веса модели)\n",
    "3. Сделать предсказания (на отложенной ранее выборке X_test)\n",
    "4. Посчитать точность классификатора"
   ]
  },
  {
   "cell_type": "code",
   "execution_count": 6,
   "metadata": {},
   "outputs": [],
   "source": [
    "alg = LinearRegressionClassifier()"
   ]
  },
  {
   "cell_type": "code",
   "execution_count": 7,
   "metadata": {},
   "outputs": [],
   "source": [
    "alg.fit(X_train, y_train)"
   ]
  },
  {
   "cell_type": "code",
   "execution_count": 8,
   "metadata": {},
   "outputs": [],
   "source": [
    "y_pred = alg.predict(X_test)"
   ]
  },
  {
   "cell_type": "code",
   "execution_count": 9,
   "metadata": {},
   "outputs": [
    {
     "name": "stdout",
     "output_type": "stream",
     "text": [
      "The accuracy of the classifier is 0.762\n"
     ]
    }
   ],
   "source": [
    "alg.accuracy(y_test, y_pred)"
   ]
  },
  {
   "cell_type": "markdown",
   "metadata": {},
   "source": [
    "### SGD"
   ]
  },
  {
   "cell_type": "markdown",
   "metadata": {},
   "source": [
    "Заново считаем данные (они почти наверняка как-то изменились, когда мы произвели аналитическое решение).  \n",
    "P.S.: Особенности Python."
   ]
  },
  {
   "cell_type": "code",
   "execution_count": 10,
   "metadata": {},
   "outputs": [],
   "source": [
    "cancer = datasets.load_breast_cancer()"
   ]
  },
  {
   "cell_type": "code",
   "execution_count": 11,
   "metadata": {},
   "outputs": [],
   "source": [
    "X = np.hstack((np.ones(len(cancer.target)).reshape(-1,1),cancer.data))"
   ]
  },
  {
   "cell_type": "code",
   "execution_count": 12,
   "metadata": {},
   "outputs": [],
   "source": [
    "X_train, X_test, y_train, y_test = train_test_split(X, cancer.target, random_state=42)"
   ]
  },
  {
   "cell_type": "code",
   "execution_count": 13,
   "metadata": {},
   "outputs": [],
   "source": [
    "class LinearRegressionClassifierSGD:\n",
    "    def __init__(self, lr=None):\n",
    "        if lr is None:\n",
    "            self.lr = 0.001\n",
    "        else:\n",
    "            self.lr = lr\n",
    "\n",
    "    def dist(self, x, y):\n",
    "        return np.sqrt(np.sum((x - y) ** 2))\n",
    "\n",
    "    def fit(self, X, y):\n",
    "        self.w = np.zeros((X.shape[1],1))\n",
    "        i = randint(0, X.shape[0] - 1)\n",
    "        x_selected = X[i]\n",
    "        y_selected = y[i]\n",
    "        tmp = self.w - 2 * self.lr * x_selected.reshape(-1,1) *\\\n",
    "              (x_selected @ self.w - y_selected) / X.shape[0]\n",
    "        while self.dist(self.w, tmp) > 1e-7:\n",
    "            i = randint(0, X.shape[0] - 1)\n",
    "            x_selected = X[i]\n",
    "            y_selected = y[i]\n",
    "            self.w, tmp = tmp - 2 * self.lr * x_selected.reshape(-1,1) *\\\n",
    "                          (x_selected @ self.w - y_selected) / X.shape[0], self.w\n",
    "\n",
    "    def predict(self, X):\n",
    "        return np.array(list(map(lambda x: 1 if x >=0 else 0, X @ self.w)))\n",
    "\n",
    "    def accuracy(self, y, y_pred):\n",
    "        print('The accuracy of the classifier is {0:.3f}'.format(accuracy_score(y, y_pred)))"
   ]
  },
  {
   "cell_type": "code",
   "execution_count": 14,
   "metadata": {},
   "outputs": [],
   "source": [
    "alg = LinearRegressionClassifier()"
   ]
  },
  {
   "cell_type": "code",
   "execution_count": 15,
   "metadata": {},
   "outputs": [],
   "source": [
    "alg.fit(X_train, y_train)"
   ]
  },
  {
   "cell_type": "code",
   "execution_count": 16,
   "metadata": {},
   "outputs": [],
   "source": [
    "y_pred = alg.predict(X_test)"
   ]
  },
  {
   "cell_type": "code",
   "execution_count": 17,
   "metadata": {},
   "outputs": [
    {
     "name": "stdout",
     "output_type": "stream",
     "text": [
      "The accuracy of the classifier is 0.762\n"
     ]
    }
   ],
   "source": [
    "alg.accuracy(y_test, y_pred)"
   ]
  },
  {
   "cell_type": "markdown",
   "metadata": {},
   "source": [
    "## Boston"
   ]
  },
  {
   "cell_type": "markdown",
   "metadata": {},
   "source": [
    "**Boston** - датасет о зависимости стоимости домов от некоторых параметров *(их названия можно посмотреть с помощью функций feature_names или почитать о них в DESCR)*. Ваша задача состоит в том, чтобы написать линейный регрессор - вы предполагаете, что зависимость стоимости от заданных параметров линейная."
   ]
  },
  {
   "cell_type": "markdown",
   "metadata": {},
   "source": [
    "Начало работы с данными такое же, как и в задаче с классификацией рака."
   ]
  },
  {
   "cell_type": "code",
   "execution_count": null,
   "metadata": {},
   "outputs": [],
   "source": [
    "boston = datasets.load_boston()"
   ]
  },
  {
   "cell_type": "code",
   "execution_count": null,
   "metadata": {},
   "outputs": [],
   "source": [
    "X = np.hstack((np.ones(len(boston.target)).reshape(-1,1),boston.data))"
   ]
  },
  {
   "cell_type": "code",
   "execution_count": null,
   "metadata": {},
   "outputs": [],
   "source": [
    "X_train, X_test, y_train, y_test = train_test_split(X, boston.target, random_state=42)"
   ]
  },
  {
   "cell_type": "markdown",
   "metadata": {},
   "source": [
    "### Аналитическое решение"
   ]
  },
  {
   "cell_type": "markdown",
   "metadata": {},
   "source": [
    "Сейчас нам нужно изменить класс, который был у нас раньше. Действительно, раньше мы решали задачу классификации, а сейчас - регрессии."
   ]
  },
  {
   "cell_type": "code",
   "execution_count": null,
   "metadata": {},
   "outputs": [],
   "source": [
    "class LinearRegressionRegressor:\n",
    "    def fit(self, X, y):\n",
    "        ### YOUR CODE HERE ! ###\n",
    "\n",
    "    def predict(self, X):\n",
    "        ### YOUR CODE HERE ! ###\n",
    "    \n",
    "    def error(self, y, y_pred):\n",
    "        print('RMSE is {0:.3f}'.format(np.sqrt(np.sum((y - y_pred) ** 2)) / len(y)))"
   ]
  },
  {
   "cell_type": "markdown",
   "metadata": {},
   "source": [
    "Вместо метода **accuraccy** у нас теперь метод **error**. О том, почему нельзя оставить **accuracy** и почему **error** выглядит именно так поговорим на семинаре."
   ]
  },
  {
   "cell_type": "code",
   "execution_count": null,
   "metadata": {},
   "outputs": [],
   "source": [
    "alg = LinearRegressionRegressor()"
   ]
  },
  {
   "cell_type": "code",
   "execution_count": null,
   "metadata": {},
   "outputs": [],
   "source": [
    "alg.fit(X_train, y_train)"
   ]
  },
  {
   "cell_type": "code",
   "execution_count": null,
   "metadata": {},
   "outputs": [],
   "source": [
    "y_pred = alg.predict(X_test)"
   ]
  },
  {
   "cell_type": "code",
   "execution_count": null,
   "metadata": {},
   "outputs": [],
   "source": [
    "alg.error(y_test, y_pred)"
   ]
  },
  {
   "cell_type": "markdown",
   "metadata": {},
   "source": [
    "### SGD"
   ]
  },
  {
   "cell_type": "markdown",
   "metadata": {},
   "source": [
    "По аналогии с **LinearRegressionClassifier** допишите **LinearRegressionRegressorSGD**."
   ]
  },
  {
   "cell_type": "code",
   "execution_count": null,
   "metadata": {},
   "outputs": [],
   "source": [
    "boston = datasets.load_boston()"
   ]
  },
  {
   "cell_type": "code",
   "execution_count": null,
   "metadata": {},
   "outputs": [],
   "source": [
    "X = np.hstack((np.ones(len(boston.target)).reshape(-1,1),boston.data))"
   ]
  },
  {
   "cell_type": "code",
   "execution_count": null,
   "metadata": {},
   "outputs": [],
   "source": [
    "X_train, X_test, y_train, y_test = train_test_split(X, boston.target, random_state=42)"
   ]
  },
  {
   "cell_type": "code",
   "execution_count": null,
   "metadata": {},
   "outputs": [],
   "source": [
    "class LinearRegressionRegressorSGD:\n",
    "    def __init__(self, lr=None):\n",
    "        if lr is None:\n",
    "            self.lr = 0.001\n",
    "        else:\n",
    "            self.lr = lr\n",
    "\n",
    "    def dist(self, x, y):\n",
    "        return np.sqrt(np.sum((x - y) ** 2))\n",
    "\n",
    "    def fit(self, X, y):\n",
    "        ### YOUR CODE HERE ! ###\n",
    "\n",
    "    def predict(self, X):\n",
    "        ### YOUR CODE HERE ! ###\n",
    "\n",
    "    def error(self, y, y_pred):\n",
    "        print('RMSE is {0:.3f}'.format(np.sqrt(np.sum((y - y_pred) ** 2)) / len(y)))"
   ]
  },
  {
   "cell_type": "code",
   "execution_count": null,
   "metadata": {},
   "outputs": [],
   "source": [
    "alg = LinearRegressionRegressor()"
   ]
  },
  {
   "cell_type": "code",
   "execution_count": null,
   "metadata": {},
   "outputs": [],
   "source": [
    "alg.fit(X_train, y_train)"
   ]
  },
  {
   "cell_type": "code",
   "execution_count": null,
   "metadata": {},
   "outputs": [],
   "source": [
    "y_pred = alg.predict(X_test)"
   ]
  },
  {
   "cell_type": "code",
   "execution_count": null,
   "metadata": {},
   "outputs": [],
   "source": [
    "alg.error(y_test, y_pred)"
   ]
  }
 ],
 "metadata": {
  "kernelspec": {
   "display_name": "Python 3",
   "language": "python",
   "name": "python3"
  },
  "language_info": {
   "codemirror_mode": {
    "name": "ipython",
    "version": 3
   },
   "file_extension": ".py",
   "mimetype": "text/x-python",
   "name": "python",
   "nbconvert_exporter": "python",
   "pygments_lexer": "ipython3",
   "version": "3.6.5"
  }
 },
 "nbformat": 4,
 "nbformat_minor": 2
}
