{
 "cells": [
  {
   "cell_type": "markdown",
   "metadata": {},
   "source": [
    "# Convolutional Neural Networks"
   ]
  },
  {
   "cell_type": "markdown",
   "metadata": {},
   "source": [
    "## CNN"
   ]
  },
  {
   "cell_type": "markdown",
   "metadata": {},
   "source": [
    "Схема сверточной нейронной сети выглядит следующим образом:"
   ]
  },
  {
   "cell_type": "markdown",
   "metadata": {},
   "source": [
    "![](https://adeshpande3.github.io/assets/Cover.png)"
   ]
  },
  {
   "cell_type": "markdown",
   "metadata": {},
   "source": [
    "---"
   ]
  },
  {
   "cell_type": "markdown",
   "metadata": {},
   "source": [
    "![](https://ujwlkarn.files.wordpress.com/2016/08/screen-shot-2016-08-07-at-4-59-29-pm.png?w=1493)"
   ]
  },
  {
   "cell_type": "markdown",
   "metadata": {},
   "source": [
    "---"
   ]
  },
  {
   "cell_type": "markdown",
   "metadata": {},
   "source": [
    "![](https://cdn-images-1.medium.com/max/1600/1*NQQiyYqJJj4PSYAeWvxutg.png)"
   ]
  },
  {
   "cell_type": "markdown",
   "metadata": {},
   "source": [
    "---"
   ]
  },
  {
   "cell_type": "markdown",
   "metadata": {},
   "source": [
    "*To get started*:\n",
    "* [Примеры нейросетей](https://keras.io/getting-started/sequential-model-guide/)\n",
    "* [Sequnetial Model](https://keras.io/models/sequential/) - модель, на которой все строится"
   ]
  },
  {
   "cell_type": "markdown",
   "metadata": {},
   "source": [
    "Об основных слоях сверточной сети можно прочитать в официальной документации *keras*:\n",
    "* [Core Layers](https://keras.io/layers/core/) - наибольший интерес представляют слои *Dense*, *Dropout*, *Flatten*\n",
    "* [Convolutional Layers](https://keras.io/layers/convolutional/) - мы работаем с *Conv2D*\n",
    "* [Pooling Layers](https://keras.io/layers/pooling/) - самый популярный вариант *MaxPooling2D*"
   ]
  },
  {
   "cell_type": "markdown",
   "metadata": {},
   "source": [
    "Другие полезные ссылки:\n",
    "* [Функции потерь](https://keras.io/losses/) - для задачи классификации применяется *categorical_crossentropy*\n",
    "* [Метрики качества](https://keras.io/metrics/) - мы чаще всего используем *accuracy*\n",
    "* [Оптимизатор](https://keras.io/optimizers/) - алгоритм, который будет искать минимум функции потерь; популярный выбор - *rmsprop* или *adam*\n",
    "* [Функции активации](https://keras.io/activations/) - после таких слоев как *Dense* и *Conv2D* необходимо ставить нелинейность; для задачи классификации в последнем *Dense* слое должна быть выбрана функция активации *softmax*"
   ]
  },
  {
   "cell_type": "markdown",
   "metadata": {},
   "source": [
    "## FashionMNIST"
   ]
  },
  {
   "cell_type": "markdown",
   "metadata": {},
   "source": [
    "**Задание.** Улучшите свой *score* в [соревновании](https://www.kaggle.com/c/multiclassification). Используйте CNN."
   ]
  },
  {
   "cell_type": "code",
   "execution_count": null,
   "metadata": {},
   "outputs": [],
   "source": []
  },
  {
   "cell_type": "markdown",
   "metadata": {},
   "source": [
    "## Modern Architectures"
   ]
  },
  {
   "cell_type": "markdown",
   "metadata": {},
   "source": [
    "### AlexNet"
   ]
  },
  {
   "cell_type": "markdown",
   "metadata": {},
   "source": [
    "Статьи по теме:\n",
    "* [Оригинальная статья](https://papers.nips.cc/paper/4824-imagenet-classification-with-deep-convolutional-neural-networks.pdf)\n",
    "* [Основные выдержки](https://medium.com/@smallfishbigsea/a-walk-through-of-alexnet-6cbd137a5637)"
   ]
  },
  {
   "cell_type": "markdown",
   "metadata": {},
   "source": [
    "![](https://cdn-images-1.medium.com/max/1600/1*qyc21qM0oxWEuRaj-XJKcw.png)"
   ]
  },
  {
   "cell_type": "markdown",
   "metadata": {},
   "source": [
    "Главные фишки:\n",
    "* Использование *ReLU* вместо стандарта 2012 года - *tanh*. Позволило ускорить скорость обучения в 6 раз\n",
    "* Использование *Dropout* для борьбы с переобучением"
   ]
  },
  {
   "cell_type": "markdown",
   "metadata": {},
   "source": [
    "### VGG"
   ]
  },
  {
   "cell_type": "markdown",
   "metadata": {},
   "source": [
    "Статьи по теме:\n",
    "* [Оригинальная статья](https://arxiv.org/pdf/1409.1556v6.pdf)\n",
    "* [Статья о самостоятельной реализации VGG](https://hackernoon.com/learning-keras-by-implementing-vgg16-from-scratch-d036733f2d5)"
   ]
  },
  {
   "cell_type": "markdown",
   "metadata": {},
   "source": [
    "![](https://www.pyimagesearch.com/wp-content/uploads/2017/03/imagenet_vgg16.png)"
   ]
  },
  {
   "cell_type": "markdown",
   "metadata": {},
   "source": [
    "Главные фишки:\n",
    "* Использование нескольких сверток с маленьким размером ядра вместо одного большого фильтра "
   ]
  },
  {
   "cell_type": "markdown",
   "metadata": {},
   "source": [
    "### GoogleNet"
   ]
  },
  {
   "cell_type": "markdown",
   "metadata": {},
   "source": [
    "Статьи по теме:\n",
    "* [Оригинальная статья](https://www.cv-foundation.org/openaccess/content_cvpr_2015/papers/Szegedy_Going_Deeper_With_2015_CVPR_paper.pdf)\n",
    "* [Tensorflow, deep learning and modern convolutional neural nets, without a PhD by Martin Görner](https://www.youtube.com/watch?v=vaL1I2BD_xY?t=36m2s)"
   ]
  },
  {
   "cell_type": "markdown",
   "metadata": {},
   "source": [
    "![](https://adeshpande3.github.io/assets/GoogLeNet.png)"
   ]
  },
  {
   "cell_type": "markdown",
   "metadata": {},
   "source": [
    "---"
   ]
  },
  {
   "cell_type": "markdown",
   "metadata": {},
   "source": [
    "![](https://i.stack.imgur.com/Xqv0n.png)"
   ]
  },
  {
   "cell_type": "markdown",
   "metadata": {},
   "source": [
    "---"
   ]
  },
  {
   "cell_type": "markdown",
   "metadata": {},
   "source": [
    "![](https://adeshpande3.github.io/assets/GoogleNet.gif)"
   ]
  },
  {
   "cell_type": "markdown",
   "metadata": {},
   "source": [
    "#### Inception Module"
   ]
  },
  {
   "cell_type": "markdown",
   "metadata": {},
   "source": [
    "[Объясняющее видео](https://www.youtube.com/watch?v=VxhSouuSZDY)"
   ]
  },
  {
   "cell_type": "markdown",
   "metadata": {},
   "source": [
    "![](https://adeshpande3.github.io/assets/GoogLeNet3.png)"
   ]
  },
  {
   "cell_type": "markdown",
   "metadata": {},
   "source": [
    "Основные фишки:\n",
    "* Использование одновременно (параллельно) нескольких фильтров малого размера\n",
    "* Отказ от *Dense* слоев в сторогу *AveragePooling*"
   ]
  },
  {
   "cell_type": "markdown",
   "metadata": {},
   "source": [
    "### ResNet"
   ]
  },
  {
   "cell_type": "markdown",
   "metadata": {},
   "source": [
    "Статьи по теме:\n",
    "* [Оригинальная статья](https://arxiv.org/pdf/1512.03385v1.pdf)"
   ]
  },
  {
   "cell_type": "markdown",
   "metadata": {},
   "source": [
    "![](https://adeshpande3.github.io/assets/ResNet.gif)"
   ]
  },
  {
   "cell_type": "markdown",
   "metadata": {},
   "source": [
    "#### Residual Block"
   ]
  },
  {
   "cell_type": "markdown",
   "metadata": {},
   "source": [
    "![](https://adeshpande3.github.io/assets/ResNet.png)"
   ]
  },
  {
   "cell_type": "markdown",
   "metadata": {},
   "source": [
    "Основные фишки:\n",
    "* Использование *Residual Blocks* позволяет решить проблему *vanishing gradient*"
   ]
  },
  {
   "cell_type": "markdown",
   "metadata": {},
   "source": [
    "## Дополнительно"
   ]
  },
  {
   "cell_type": "markdown",
   "metadata": {},
   "source": [
    "Полезные ссылки:\n",
    "* [Короткое описание каждой из архитектур](https://adeshpande3.github.io/adeshpande3.github.io/The-9-Deep-Learning-Papers-You-Need-To-Know-About.html)\n",
    "* [Другой обзор архитектур](http://cv-tricks.com/cnn/understand-resnet-alexnet-vgg-inception/)"
   ]
  },
  {
   "cell_type": "code",
   "execution_count": null,
   "metadata": {},
   "outputs": [],
   "source": []
  }
 ],
 "metadata": {
  "kernelspec": {
   "display_name": "Python 3",
   "language": "python",
   "name": "python3"
  },
  "language_info": {
   "codemirror_mode": {
    "name": "ipython",
    "version": 3
   },
   "file_extension": ".py",
   "mimetype": "text/x-python",
   "name": "python",
   "nbconvert_exporter": "python",
   "pygments_lexer": "ipython3",
   "version": "3.6.5"
  }
 },
 "nbformat": 4,
 "nbformat_minor": 2
}
